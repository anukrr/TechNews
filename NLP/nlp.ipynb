{
 "cells": [
  {
   "cell_type": "code",
   "execution_count": 4,
   "metadata": {},
   "outputs": [],
   "source": [
    "import psycopg2\n",
    "from psycopg2 import connect\n",
    "from dotenv import load_dotenv\n",
    "from os import environ\n",
    "import pandas as pd\n",
    "import textblob\n",
    "from textblob import TextBlob\n",
    "import plotly.graph_objects as go\n",
    "import numpy as np\n",
    "import streamlit\n",
    "import json\n",
    "from requests import get\n",
    "import html\n",
    "\n",
    "from plotly.offline import init_notebook_mode, iplot"
   ]
  },
  {
   "cell_type": "code",
   "execution_count": 5,
   "metadata": {},
   "outputs": [],
   "source": [
    "def get_db_connection():\n",
    "    \"\"\"Returns a database connection.\"\"\"\n",
    "    load_dotenv()\n",
    "    return psycopg2.connect(\n",
    "        host=environ[\"DB_HOST\"],\n",
    "        port=environ[\"DB_PORT\"],\n",
    "        database=environ[\"DB_NAME\"],\n",
    "        user=environ[\"DB_USER\"],\n",
    "        password=environ[\"DB_PASSWORD\"]\n",
    "        )\n"
   ]
  },
  {
   "cell_type": "code",
   "execution_count": 6,
   "metadata": {},
   "outputs": [],
   "source": [
    "def load_stories_data() -> pd.DataFrame:\n",
    "    \"\"\"Loads re with greatest score change over last 24hrs from RDS.\n",
    "    Returns them as a Dataframe object.\"\"\"\n",
    "    query = \"\"\"\n",
    "        SELECT stories.story_id, \n",
    "                stories.title, \n",
    "                stories.author,\n",
    "                stories.story_url,\n",
    "                records.comments, \n",
    "                records.record_id, \n",
    "                stories.topic_id,\n",
    "                records.score\n",
    "        FROM records\n",
    "        LEFT JOIN stories ON records.story_id = stories.story_id\n",
    "        WHERE record_time >= NOW() - INTERVAL '1 hours'\n",
    "        ;\n",
    "        \"\"\"\n",
    "    return pd.read_sql(query, con=get_db_connection())"
   ]
  },
  {
   "cell_type": "markdown",
   "metadata": {},
   "source": []
  },
  {
   "cell_type": "code",
   "execution_count": 7,
   "metadata": {},
   "outputs": [
    {
     "name": "stderr",
     "output_type": "stream",
     "text": [
      "/var/folders/2f/000yp3dd3t359b791hdtl7jm0000gp/T/ipykernel_99790/2157761801.py:18: UserWarning:\n",
      "\n",
      "pandas only supports SQLAlchemy connectable (engine/connection) or database string URI or sqlite3 DBAPI2 connection. Other DBAPI2 objects are not tested. Please consider using SQLAlchemy.\n",
      "\n"
     ]
    },
    {
     "data": {
      "text/html": [
       "        <script type=\"text/javascript\">\n",
       "        window.PlotlyConfig = {MathJaxConfig: 'local'};\n",
       "        if (window.MathJax && window.MathJax.Hub && window.MathJax.Hub.Config) {window.MathJax.Hub.Config({SVG: {font: \"STIX-Web\"}});}\n",
       "        if (typeof require !== 'undefined') {\n",
       "        require.undef(\"plotly\");\n",
       "        requirejs.config({\n",
       "            paths: {\n",
       "                'plotly': ['https://cdn.plot.ly/plotly-2.27.0.min']\n",
       "            }\n",
       "        });\n",
       "        require(['plotly'], function(Plotly) {\n",
       "            window._Plotly = Plotly;\n",
       "        });\n",
       "        }\n",
       "        </script>\n",
       "        "
      ]
     },
     "metadata": {},
     "output_type": "display_data"
    }
   ],
   "source": [
    "load_dotenv()\n",
    "df = load_stories_data()\n",
    "init_notebook_mode(connected=True)     \n"
   ]
  },
  {
   "cell_type": "markdown",
   "metadata": {},
   "source": [
    "## Retrieve comment string\n"
   ]
  },
  {
   "cell_type": "code",
   "execution_count": 8,
   "metadata": {},
   "outputs": [],
   "source": [
    "BASE_URL = \"https://hacker-news.firebaseio.com/v0/item/\"\n",
    "\n",
    "def get_comment_ids(story: int) -> list:\n",
    "    \"\"\"Returns the id of comments from given story on Hacker News.\"\"\"\n",
    "    story_info = get(BASE_URL + f\"{story}.json\", timeout=30).json()\n",
    "    comment_ids = story_info.get(\"kids\")\n",
    "    return comment_ids\n",
    "\n",
    "\n",
    "def get_comments(comment: int) -> str:\n",
    "    \"\"\"Returns the text from a given comment.\"\"\"\n",
    "\n",
    "    comment_info = get(BASE_URL + f\"{comment}.json\", timeout=30).json()\n",
    "    comment = comment_info.get(\"text\")\n",
    "    return comment"
   ]
  },
  {
   "cell_type": "markdown",
   "metadata": {},
   "source": [
    "### Sentiment analysis for a chosen story"
   ]
  },
  {
   "cell_type": "code",
   "execution_count": 13,
   "metadata": {},
   "outputs": [
    {
     "name": "stdout",
     "output_type": "stream",
     "text": [
      "[{'comment': 'Powerlight technologies(formerly LaserMotive) has demonstrated power over fiber tech that can transmit hundreds of watts[0][1]. The intended application of this tech was for powering underwater remotely operated vehicles(ROV). The same amount of power could be transmitted with a thinner fiberoptic cable than a copper cable, so it would encumber the ROV less. Although other niche applications like powering electronics in regions with EMP or near MRI&#x27;s were suggested. Powerlight&#x27;s linkedin currently shows them powering an inflatable christmas decoration with power over fiber.<p>Some of the people at Powerlight found this tech to be ironic because Powerlight was originally founded as a wireless power beaming company. However, some of their customers asked if they could transmit power via wires, so that&#x27;s what they did.<p>[0]<a href=\"https:&#x2F;&#x2F;powerlighttech.com&#x2F;power-over-fiber&#x2F;\" rel=\"nofollow\">https:&#x2F;&#x2F;powerlighttech.com&#x2F;power-over-fiber&#x2F;</a>\\n[1]<a href=\"https:&#x2F;&#x2F;www.laserfocusworld.com&#x2F;test-measurement&#x2F;research&#x2F;article&#x2F;16561660&#x2F;lasermotive-announces-laser-power-over-fiber-technology\" rel=\"nofollow\">https:&#x2F;&#x2F;www.laserfocusworld.com&#x2F;test-measurement&#x2F;research&#x2F;ar...</a>', 'sentiment': 0.0}, {'comment': '&gt; efficiently converts optical power to electrical power<p>Damn, I thought it was just a copper pair going along the fibers. I hope they provide some thick safety glasses with that.<p>I don&#x27;t know if it&#x27;d come out as laser light, but 600 mW puts it into class 4 (eyes are damaged at a few 100m distance):<p><a href=\"https:&#x2F;&#x2F;www.lasersafetyfacts.com&#x2F;resources&#x2F;FAA---visible-laser-hazard-calcs-for-LSF-v02.png\" rel=\"nofollow\">https:&#x2F;&#x2F;www.lasersafetyfacts.com&#x2F;resources&#x2F;FAA---visible-las...</a>', 'sentiment': -0.03333333333333335}, {'comment': 'From a reply:  “wow. I expected expensive (two digits), but indeed: these are _very_ expensive (three digits).”<p>Honestly, seems pretty reasonable for what is likely an industrial-grade product. \\n I&#x27;ve paid 80 dollars or so per button on a panel with a dozen “simple” push buttons, and there were buttons in that same series that went for a few hundred (for example <a href=\"https:&#x2F;&#x2F;www.digikey.ca&#x2F;en&#x2F;products&#x2F;detail&#x2F;schneider-electric&#x2F;XB4BW3445&#x2F;16607027\" rel=\"nofollow\">https:&#x2F;&#x2F;www.digikey.ca&#x2F;en&#x2F;products&#x2F;detail&#x2F;schneider-electric...</a>).', 'sentiment': -0.06666666666666667}, {'comment': 'The target application for this seems to be high voltage isolation, and common mode leakage immunity. I could imagine this being used to power an active high voltage probe.', 'sentiment': 0.013333333333333336}, {'comment': 'I&#x27;m a customer of the very best US ISP (sonic.net) in San Francisco. We had a major power outage affecting a quarter of the city, including my home. Everything went down. Except my sonic.net fiber ISP. I asked the CEO how that worked and he responded<p>&gt; Our network is a “passive optical network” in the outside plant - the cabinets on poles just house optical splitters - no electronics.<p>Yes, apparently it&#x27;s glass all the way from San Francisco to San Jose. I&#x27;m assuming they aren&#x27;t using this power over fiber trick either but it&#x27;s neat to think they could, at least for limited power needs.<p><a href=\"https:&#x2F;&#x2F;twitter.com&#x2F;dane&#x2F;status&#x2F;1190054557667053568\" rel=\"nofollow\">https:&#x2F;&#x2F;twitter.com&#x2F;dane&#x2F;status&#x2F;1190054557667053568</a>', 'sentiment': -0.18571428571428572}, {'comment': 'Years ago, Bell Labs once developed a fiber-optic telephone handset that obtained all its power over the fiber from the central office. A comment was that the audio wasn&#x27;t that hard, but the bell was really tough.<p>(It used to be a thing in telephony to be totally independent of local power. Landline phones were powered entirely from the central office end.)', 'sentiment': 0.0}, {'comment': 'Could this idea be used, for example, to power a landline phone like it was done with POTS? So no external power was needed for the phone and it even worked in the event of a blackout.', 'sentiment': 0.0}, {'comment': 'I was working i a company (EMC testing) which decided to build their own &quot;Power over Fiber&quot; solar cells, also in the 500 or 600mW power range. Yes, you can buy such stuff now from boradcom but these are simply too expensive.', 'sentiment': -0.16666666666666666}, {'comment': 'I wonder if you could send power at one wavelength, and data at another wavelength, over the same fibre.', 'sentiment': 0.0}, {'comment': 'The transmitter module; <a href=\"https:&#x2F;&#x2F;docs.broadcom.com&#x2F;docs&#x2F;AFBR-POL2120-DS\" rel=\"nofollow\">https:&#x2F;&#x2F;docs.broadcom.com&#x2F;docs&#x2F;AFBR-POL2120-DS</a>', 'sentiment': 0.0}, {'comment': 'Must be very niche as lasers operate typically below 10% efficiency. And one speck of dust or defect on a component and you&#x27;re setting fire to something.', 'sentiment': 0.0}, {'comment': 'How much optical power could be safely carried over such an optical fiber in theory? What are the limitations?', 'sentiment': 0.0}, {'comment': 'What&#x27;s the use-case here? That&#x27;s the biggest optoisolator I&#x27;ve ever heard of.<p>Someone out there wants a lot of power pushed through electrically isolated islands. Normally, you&#x27;d have power on both sides but just send a signal (lower-power light + sensor to detect the light). It seems odd to use this technique to transmit power (Albeit a small 0.5W worth of power or so, but that&#x27;s enough to run most microcontrollers and even some microprocessors).<p>My guess is some kind of optoisolator situation except you weren&#x27;t allowed to run power on the other side for some strange reason. But I&#x27;m having difficulty thinking of a practical application where these requirements pop up.', 'sentiment': 0.0}, {'comment': 'Thank you for sharing it.<p>My observations so far:<p>- Too expensive to be practical. Currently at $$$ per device.<p>- Few chips exist in that power range for consumer electrical to make it mass produced and available.<p>- Repairs may also not be as practical. We probably need new cold crimpable couplers for this to be field deployable.<p>I would like to see a repairable medium for this to take off. I&#x27;m already reading the other replies here and I see potential.', 'sentiment': -0.0625}, {'comment': 'Approximately 30% power efficiency', 'sentiment': -0.4}, {'comment': None, 'sentiment': 0.0}, {'comment': 'For layman, can someone explain how much power are the lights emitted? I mean can it be used to burn wood, or the cut through sheets of metal.', 'sentiment': -0.3125}, {'comment': 'I am imagining running all the sensors in my data center off fiber and not needing a hamster ball of 24v in every cabinet.', 'sentiment': -0.1}, {'comment': 'Ever had one of those retaining clips get weak over time? Yea, I&#x27;m gonna need some lock out tag out on this cabinet.', 'sentiment': 0.0}, {'comment': 'Sadly, the bandwidth of the devices is not given anywhere. Would be really interesting for certain applications.\\nThis is very helpful in medic applications like MRI.', 'sentiment': 0.2}, {'comment': 'This could be great for power isolation.  Think of a micro-HSM application, where you want electrical isolation to protect against over&#x2F;under voltage attacks.', 'sentiment': 0.0}, {'comment': 'Didn&#x27;t know this was a thing. Pretty cool, but doesn&#x27;t seem like it&#x27;d work over long distances.', 'sentiment': 0.18333333333333332}, {'comment': 'The company I work for uses these Cisco Meraki devices in their network, some of which support “Power over ethernet”.<p><a href=\"https:&#x2F;&#x2F;meraki.cisco.com&#x2F;product&#x2F;switches&#x2F;access-switches&#x2F;ms120-8&#x2F;\" rel=\"nofollow\">https:&#x2F;&#x2F;meraki.cisco.com&#x2F;product&#x2F;switches&#x2F;access-switches&#x2F;ms...</a><p>With these devices, you don’t need to worry about a separate power cable for your network devices.', 'sentiment': 0.0}, {'comment': '&gt; 3v 180mA<p>i suppose you can’t run power and data together, but anyway how does this compare to PoE?', 'sentiment': 0.0}, {'comment': 'So... I have a really interesting anecdote on <i>&quot;Power over fiber&quot;</i><p>In ~2004 I was the technology designer for the Lucas Arts Presidio Campus - I designed all the physical network, custom cable tray in the DC, the DC power infrastructure for the DC and did all the layout of the devices collapsing into the DC from ILM, Big Rock and other locations.<p>When we designed the network, it was the largest 10G network in the world, all based on FORCE10 equipment, as spec&#x27;d by ILM&#x27;s Raleigh Mann (later netword head for Google)...<p>The original design was for fiber to the desktop, as they wanted all desktop machines to become a part of the render farm when not being used.<p>--<p>We were doing vendor selection from the RFP and holding interviews for each vendor to present their response to the RFP (The network was ~$50 million (this was 2004, so that was a really large number back then)<p>In the meeting with Cisco, Cisco performed a clown show, but the CTO for Lucas seriously (remember, Cisco 6500s was the core king at the time)<p>Lucas CTO: <i>&quot;Yeah, well we have CAT6 and Fiber to the desktop. When can you give me power over fiber so I can just run fiber to the desktop&quot;</i><p>Blank stares from everyone.<p>(He sadly died of heart attack shortly after)<p>---<p>But here we are. We thought a fool, but I guess he was a visionary.', 'sentiment': 0.0}, {'comment': 'This seems super useful for remote sensors in hostile environments.', 'sentiment': 0.17777777777777778}, {'comment': 'Apparently the price of these things can make a grown man cry.', 'sentiment': 0.05}, {'comment': None, 'sentiment': 0.0}, {'comment': 'orange site needs a standing rule to avoid linking directly to Mastodon instances unless we know they can handle the hug of death.', 'sentiment': 0.1}, {'comment': '&gt; 3v 180mA from 1.5W<p>So only 36% efficient.', 'sentiment': 0.0}]\n"
     ]
    }
   ],
   "source": [
    "def get_parent_comment_ids(story: int) -> list:\n",
    "    \"\"\"Returns the id of comments from given story on Hacker News.\"\"\"\n",
    "    story_info = get(BASE_URL + f\"{story}.json\", timeout=30).json()\n",
    "    comment_ids = story_info.get(\"kids\")\n",
    "    return comment_ids\n",
    "\n",
    "\n",
    "def get_comment_text(comment: int) -> str:\n",
    "    \"\"\"Returns the text from a given comment.\"\"\"\n",
    "\n",
    "    comment_info = get(BASE_URL + f\"{comment}.json\", timeout=30).json()\n",
    "    comment = comment_info.get(\"text\")\n",
    "    return comment\n",
    "\n",
    "\n",
    "def get_comment_list(story: int):\n",
    "    comments = get_parent_comment_ids(story)\n",
    "    comment_list = [get_comment_text(comment) for comment in comments]\n",
    "    return comment_list\n",
    "\n",
    "def get_story_sentiment(story_id: str):\n",
    "    comment_list = get_comment_list(int(story_id))\n",
    "    sentiment_list = []\n",
    "    for comment in comment_list:\n",
    "        html.unescape(str(comment))\n",
    "        blob = TextBlob(str(comment))\n",
    "\n",
    "        for sentence in blob.sentences:\n",
    "            sentiment = sentence.sentiment.polarity\n",
    "        sentiment_list.append({'comment': comment,\n",
    "        'sentiment': sentiment})\n",
    "    sentiment_mean = []\n",
    "    for i in range(0,20):\n",
    "        sentiment_mean.append(sentiment_list[i]['sentiment'])\n",
    "    average = sum(sentiment_mean)/len(sentiment_mean)\n",
    "    return average\n",
    "\n",
    "\n",
    "sentiment = get_story_sentiment(38865518)\n",
    "print(sentiment)"
   ]
  },
  {
   "cell_type": "code",
   "execution_count": 15,
   "metadata": {},
   "outputs": [
    {
     "ename": "SyntaxError",
     "evalue": "invalid syntax (3920988875.py, line 2)",
     "output_type": "error",
     "traceback": [
      "\u001b[0;36m  Cell \u001b[0;32mIn[15], line 2\u001b[0;36m\u001b[0m\n\u001b[0;31m    valucategoriseiment():\u001b[0m\n\u001b[0m                          ^\u001b[0m\n\u001b[0;31mSyntaxError\u001b[0m\u001b[0;31m:\u001b[0m invalid syntax\n"
     ]
    }
   ],
   "source": [
    "sentiment_of_overall_response = get_story_sentiment()\n",
    "\n",
    "def categorise_sentiment():\n",
    "    if -sentiment_value: int1 <= va< -0.6:\n",
    "        category_color = \"#FF0000\"\n",
    "        category_label = \"Very Negative 😠\"\n",
    "    elif -0.6 <= value < -0.3:\n",
    "        category_color = \"#FFA500\"\n",
    "        category_label = \"Negative 🙁\"\n",
    "    elif -0.3 <= value < 0.3:\n",
    "        category_color = \"#FFFF00\"\n",
    "        category_label = \"Neutral 😐\"\n",
    "    elif 0.3 <= value < 0.6:\n",
    "        category_color = \"#8BFF00\"\n",
    "        category_label = \"Positive 🙂\"\n",
    "    else:\n",
    "        category_color = \"#00FF00\"\n",
    "        category_label = \"Very Positive 😄\"\n",
    "        \n",
    "    return {'colour': category_color, 'label': category_label}"
   ]
  },
  {
   "cell_type": "markdown",
   "metadata": {},
   "source": []
  },
  {
   "cell_type": "code",
   "execution_count": 60,
   "metadata": {},
   "outputs": [
    {
     "ename": "ValueError",
     "evalue": "Mime type rendering requires nbformat>=4.2.0 but it is not installed",
     "output_type": "error",
     "traceback": [
      "\u001b[0;31m---------------------------------------------------------------------------\u001b[0m",
      "\u001b[0;31mValueError\u001b[0m                                Traceback (most recent call last)",
      "File \u001b[0;32m~/Documents/TechNews/NLP/venv/lib/python3.9/site-packages/IPython/core/formatters.py:922\u001b[0m, in \u001b[0;36mIPythonDisplayFormatter.__call__\u001b[0;34m(self, obj)\u001b[0m\n\u001b[1;32m    920\u001b[0m method \u001b[39m=\u001b[39m get_real_method(obj, \u001b[39mself\u001b[39m\u001b[39m.\u001b[39mprint_method)\n\u001b[1;32m    921\u001b[0m \u001b[39mif\u001b[39;00m method \u001b[39mis\u001b[39;00m \u001b[39mnot\u001b[39;00m \u001b[39mNone\u001b[39;00m:\n\u001b[0;32m--> 922\u001b[0m     method()\n\u001b[1;32m    923\u001b[0m     \u001b[39mreturn\u001b[39;00m \u001b[39mTrue\u001b[39;00m\n",
      "File \u001b[0;32m~/Documents/TechNews/NLP/venv/lib/python3.9/site-packages/plotly/basedatatypes.py:832\u001b[0m, in \u001b[0;36mBaseFigure._ipython_display_\u001b[0;34m(self)\u001b[0m\n\u001b[1;32m    829\u001b[0m \u001b[39mimport\u001b[39;00m \u001b[39mplotly\u001b[39;00m\u001b[39m.\u001b[39;00m\u001b[39mio\u001b[39;00m \u001b[39mas\u001b[39;00m \u001b[39mpio\u001b[39;00m\n\u001b[1;32m    831\u001b[0m \u001b[39mif\u001b[39;00m pio\u001b[39m.\u001b[39mrenderers\u001b[39m.\u001b[39mrender_on_display \u001b[39mand\u001b[39;00m pio\u001b[39m.\u001b[39mrenderers\u001b[39m.\u001b[39mdefault:\n\u001b[0;32m--> 832\u001b[0m     pio\u001b[39m.\u001b[39;49mshow(\u001b[39mself\u001b[39;49m)\n\u001b[1;32m    833\u001b[0m \u001b[39melse\u001b[39;00m:\n\u001b[1;32m    834\u001b[0m     \u001b[39mprint\u001b[39m(\u001b[39mrepr\u001b[39m(\u001b[39mself\u001b[39m))\n",
      "File \u001b[0;32m~/Documents/TechNews/NLP/venv/lib/python3.9/site-packages/plotly/io/_renderers.py:394\u001b[0m, in \u001b[0;36mshow\u001b[0;34m(fig, renderer, validate, **kwargs)\u001b[0m\n\u001b[1;32m    389\u001b[0m         \u001b[39mraise\u001b[39;00m \u001b[39mValueError\u001b[39;00m(\n\u001b[1;32m    390\u001b[0m             \u001b[39m\"\u001b[39m\u001b[39mMime type rendering requires ipython but it is not installed\u001b[39m\u001b[39m\"\u001b[39m\n\u001b[1;32m    391\u001b[0m         )\n\u001b[1;32m    393\u001b[0m     \u001b[39mif\u001b[39;00m \u001b[39mnot\u001b[39;00m nbformat \u001b[39mor\u001b[39;00m Version(nbformat\u001b[39m.\u001b[39m__version__) \u001b[39m<\u001b[39m Version(\u001b[39m\"\u001b[39m\u001b[39m4.2.0\u001b[39m\u001b[39m\"\u001b[39m):\n\u001b[0;32m--> 394\u001b[0m         \u001b[39mraise\u001b[39;00m \u001b[39mValueError\u001b[39;00m(\n\u001b[1;32m    395\u001b[0m             \u001b[39m\"\u001b[39m\u001b[39mMime type rendering requires nbformat>=4.2.0 but it is not installed\u001b[39m\u001b[39m\"\u001b[39m\n\u001b[1;32m    396\u001b[0m         )\n\u001b[1;32m    398\u001b[0m     ipython_display\u001b[39m.\u001b[39mdisplay(bundle, raw\u001b[39m=\u001b[39m\u001b[39mTrue\u001b[39;00m)\n\u001b[1;32m    400\u001b[0m \u001b[39m# external renderers\u001b[39;00m\n",
      "\u001b[0;31mValueError\u001b[0m: Mime type rendering requires nbformat>=4.2.0 but it is not installed"
     ]
    },
    {
     "data": {
      "text/html": [
       "        <script type=\"text/javascript\">\n",
       "        window.PlotlyConfig = {MathJaxConfig: 'local'};\n",
       "        if (window.MathJax && window.MathJax.Hub && window.MathJax.Hub.Config) {window.MathJax.Hub.Config({SVG: {font: \"STIX-Web\"}});}\n",
       "        if (typeof require !== 'undefined') {\n",
       "        require.undef(\"plotly\");\n",
       "        requirejs.config({\n",
       "            paths: {\n",
       "                'plotly': ['https://cdn.plot.ly/plotly-2.27.0.min']\n",
       "            }\n",
       "        });\n",
       "        require(['plotly'], function(Plotly) {\n",
       "            window._Plotly = Plotly;\n",
       "        });\n",
       "        }\n",
       "        </script>\n",
       "        "
      ]
     },
     "metadata": {},
     "output_type": "display_data"
    },
    {
     "data": {
      "application/vnd.plotly.v1+json": {
       "config": {
        "plotlyServerURL": "https://plot.ly"
       },
       "data": [
        {
         "gauge": {
          "axis": {
           "range": [
            -1,
            1
           ]
          },
          "bar": {
           "color": "#FFFF00"
          }
         },
         "mode": "gauge+number",
         "title": {
          "text": "Overall Sentiment: Neutral 😐"
         },
         "type": "indicator",
         "value": -0.05570238095238096
        }
       ],
       "layout": {
        "template": {
         "data": {
          "candlestick": [
           {
            "decreasing": {
             "line": {
              "color": "#000033"
             }
            },
            "increasing": {
             "line": {
              "color": "#000032"
             }
            },
            "type": "candlestick"
           }
          ],
          "contour": [
           {
            "colorscale": [
             [
              0,
              "#000011"
             ],
             [
              0.1111111111111111,
              "#000012"
             ],
             [
              0.2222222222222222,
              "#000013"
             ],
             [
              0.3333333333333333,
              "#000014"
             ],
             [
              0.4444444444444444,
              "#000015"
             ],
             [
              0.5555555555555556,
              "#000016"
             ],
             [
              0.6666666666666666,
              "#000017"
             ],
             [
              0.7777777777777778,
              "#000018"
             ],
             [
              0.8888888888888888,
              "#000019"
             ],
             [
              1,
              "#000020"
             ]
            ],
            "type": "contour"
           }
          ],
          "contourcarpet": [
           {
            "colorscale": [
             [
              0,
              "#000011"
             ],
             [
              0.1111111111111111,
              "#000012"
             ],
             [
              0.2222222222222222,
              "#000013"
             ],
             [
              0.3333333333333333,
              "#000014"
             ],
             [
              0.4444444444444444,
              "#000015"
             ],
             [
              0.5555555555555556,
              "#000016"
             ],
             [
              0.6666666666666666,
              "#000017"
             ],
             [
              0.7777777777777778,
              "#000018"
             ],
             [
              0.8888888888888888,
              "#000019"
             ],
             [
              1,
              "#000020"
             ]
            ],
            "type": "contourcarpet"
           }
          ],
          "heatmap": [
           {
            "colorscale": [
             [
              0,
              "#000011"
             ],
             [
              0.1111111111111111,
              "#000012"
             ],
             [
              0.2222222222222222,
              "#000013"
             ],
             [
              0.3333333333333333,
              "#000014"
             ],
             [
              0.4444444444444444,
              "#000015"
             ],
             [
              0.5555555555555556,
              "#000016"
             ],
             [
              0.6666666666666666,
              "#000017"
             ],
             [
              0.7777777777777778,
              "#000018"
             ],
             [
              0.8888888888888888,
              "#000019"
             ],
             [
              1,
              "#000020"
             ]
            ],
            "type": "heatmap"
           }
          ],
          "histogram2d": [
           {
            "colorscale": [
             [
              0,
              "#000011"
             ],
             [
              0.1111111111111111,
              "#000012"
             ],
             [
              0.2222222222222222,
              "#000013"
             ],
             [
              0.3333333333333333,
              "#000014"
             ],
             [
              0.4444444444444444,
              "#000015"
             ],
             [
              0.5555555555555556,
              "#000016"
             ],
             [
              0.6666666666666666,
              "#000017"
             ],
             [
              0.7777777777777778,
              "#000018"
             ],
             [
              0.8888888888888888,
              "#000019"
             ],
             [
              1,
              "#000020"
             ]
            ],
            "type": "histogram2d"
           }
          ],
          "icicle": [
           {
            "textfont": {
             "color": "white"
            },
            "type": "icicle"
           }
          ],
          "sankey": [
           {
            "textfont": {
             "color": "#000036"
            },
            "type": "sankey"
           }
          ],
          "scatter": [
           {
            "marker": {
             "line": {
              "width": 0
             }
            },
            "type": "scatter"
           }
          ],
          "table": [
           {
            "cells": {
             "fill": {
              "color": "#000038"
             },
             "font": {
              "color": "#000037"
             },
             "line": {
              "color": "#000039"
             }
            },
            "header": {
             "fill": {
              "color": "#000040"
             },
             "font": {
              "color": "#000036"
             },
             "line": {
              "color": "#000039"
             }
            },
            "type": "table"
           }
          ],
          "waterfall": [
           {
            "connector": {
             "line": {
              "color": "#000036",
              "width": 2
             }
            },
            "decreasing": {
             "marker": {
              "color": "#000033"
             }
            },
            "increasing": {
             "marker": {
              "color": "#000032"
             }
            },
            "totals": {
             "marker": {
              "color": "#000034"
             }
            },
            "type": "waterfall"
           }
          ]
         },
         "layout": {
          "coloraxis": {
           "colorscale": [
            [
             0,
             "#000011"
            ],
            [
             0.1111111111111111,
             "#000012"
            ],
            [
             0.2222222222222222,
             "#000013"
            ],
            [
             0.3333333333333333,
             "#000014"
            ],
            [
             0.4444444444444444,
             "#000015"
            ],
            [
             0.5555555555555556,
             "#000016"
            ],
            [
             0.6666666666666666,
             "#000017"
            ],
            [
             0.7777777777777778,
             "#000018"
            ],
            [
             0.8888888888888888,
             "#000019"
            ],
            [
             1,
             "#000020"
            ]
           ]
          },
          "colorscale": {
           "diverging": [
            [
             0,
             "#000021"
            ],
            [
             0.1,
             "#000022"
            ],
            [
             0.2,
             "#000023"
            ],
            [
             0.3,
             "#000024"
            ],
            [
             0.4,
             "#000025"
            ],
            [
             0.5,
             "#000026"
            ],
            [
             0.6,
             "#000027"
            ],
            [
             0.7,
             "#000028"
            ],
            [
             0.8,
             "#000029"
            ],
            [
             0.9,
             "#000030"
            ],
            [
             1,
             "#000031"
            ]
           ],
           "sequential": [
            [
             0,
             "#000011"
            ],
            [
             0.1111111111111111,
             "#000012"
            ],
            [
             0.2222222222222222,
             "#000013"
            ],
            [
             0.3333333333333333,
             "#000014"
            ],
            [
             0.4444444444444444,
             "#000015"
            ],
            [
             0.5555555555555556,
             "#000016"
            ],
            [
             0.6666666666666666,
             "#000017"
            ],
            [
             0.7777777777777778,
             "#000018"
            ],
            [
             0.8888888888888888,
             "#000019"
            ],
            [
             1,
             "#000020"
            ]
           ],
           "sequentialminus": [
            [
             0,
             "#000011"
            ],
            [
             0.1111111111111111,
             "#000012"
            ],
            [
             0.2222222222222222,
             "#000013"
            ],
            [
             0.3333333333333333,
             "#000014"
            ],
            [
             0.4444444444444444,
             "#000015"
            ],
            [
             0.5555555555555556,
             "#000016"
            ],
            [
             0.6666666666666666,
             "#000017"
            ],
            [
             0.7777777777777778,
             "#000018"
            ],
            [
             0.8888888888888888,
             "#000019"
            ],
            [
             1,
             "#000020"
            ]
           ]
          },
          "colorway": [
           "#000001",
           "#000002",
           "#000003",
           "#000004",
           "#000005",
           "#000006",
           "#000007",
           "#000008",
           "#000009",
           "#000010"
          ]
         }
        }
       }
      },
      "text/html": [
       "<div>                            <div id=\"ebe7ed22-82aa-4a05-a1ba-b5b8301df28c\" class=\"plotly-graph-div\" style=\"height:525px; width:100%;\"></div>            <script type=\"text/javascript\">                require([\"plotly\"], function(Plotly) {                    window.PLOTLYENV=window.PLOTLYENV || {};                                    if (document.getElementById(\"ebe7ed22-82aa-4a05-a1ba-b5b8301df28c\")) {                    Plotly.newPlot(                        \"ebe7ed22-82aa-4a05-a1ba-b5b8301df28c\",                        [{\"gauge\":{\"axis\":{\"range\":[-1,1]},\"bar\":{\"color\":\"#FFFF00\"}},\"mode\":\"gauge+number\",\"title\":{\"text\":\"Overall Sentiment: Neutral \\ud83d\\ude10\"},\"value\":-0.05570238095238096,\"type\":\"indicator\"}],                        {\"template\":{\"data\":{\"candlestick\":[{\"decreasing\":{\"line\":{\"color\":\"#000033\"}},\"increasing\":{\"line\":{\"color\":\"#000032\"}},\"type\":\"candlestick\"}],\"contourcarpet\":[{\"colorscale\":[[0.0,\"#000011\"],[0.1111111111111111,\"#000012\"],[0.2222222222222222,\"#000013\"],[0.3333333333333333,\"#000014\"],[0.4444444444444444,\"#000015\"],[0.5555555555555556,\"#000016\"],[0.6666666666666666,\"#000017\"],[0.7777777777777778,\"#000018\"],[0.8888888888888888,\"#000019\"],[1.0,\"#000020\"]],\"type\":\"contourcarpet\"}],\"contour\":[{\"colorscale\":[[0.0,\"#000011\"],[0.1111111111111111,\"#000012\"],[0.2222222222222222,\"#000013\"],[0.3333333333333333,\"#000014\"],[0.4444444444444444,\"#000015\"],[0.5555555555555556,\"#000016\"],[0.6666666666666666,\"#000017\"],[0.7777777777777778,\"#000018\"],[0.8888888888888888,\"#000019\"],[1.0,\"#000020\"]],\"type\":\"contour\"}],\"heatmap\":[{\"colorscale\":[[0.0,\"#000011\"],[0.1111111111111111,\"#000012\"],[0.2222222222222222,\"#000013\"],[0.3333333333333333,\"#000014\"],[0.4444444444444444,\"#000015\"],[0.5555555555555556,\"#000016\"],[0.6666666666666666,\"#000017\"],[0.7777777777777778,\"#000018\"],[0.8888888888888888,\"#000019\"],[1.0,\"#000020\"]],\"type\":\"heatmap\"}],\"histogram2d\":[{\"colorscale\":[[0.0,\"#000011\"],[0.1111111111111111,\"#000012\"],[0.2222222222222222,\"#000013\"],[0.3333333333333333,\"#000014\"],[0.4444444444444444,\"#000015\"],[0.5555555555555556,\"#000016\"],[0.6666666666666666,\"#000017\"],[0.7777777777777778,\"#000018\"],[0.8888888888888888,\"#000019\"],[1.0,\"#000020\"]],\"type\":\"histogram2d\"}],\"icicle\":[{\"textfont\":{\"color\":\"white\"},\"type\":\"icicle\"}],\"sankey\":[{\"textfont\":{\"color\":\"#000036\"},\"type\":\"sankey\"}],\"scatter\":[{\"marker\":{\"line\":{\"width\":0}},\"type\":\"scatter\"}],\"table\":[{\"cells\":{\"fill\":{\"color\":\"#000038\"},\"font\":{\"color\":\"#000037\"},\"line\":{\"color\":\"#000039\"}},\"header\":{\"fill\":{\"color\":\"#000040\"},\"font\":{\"color\":\"#000036\"},\"line\":{\"color\":\"#000039\"}},\"type\":\"table\"}],\"waterfall\":[{\"connector\":{\"line\":{\"color\":\"#000036\",\"width\":2}},\"decreasing\":{\"marker\":{\"color\":\"#000033\"}},\"increasing\":{\"marker\":{\"color\":\"#000032\"}},\"totals\":{\"marker\":{\"color\":\"#000034\"}},\"type\":\"waterfall\"}]},\"layout\":{\"coloraxis\":{\"colorscale\":[[0.0,\"#000011\"],[0.1111111111111111,\"#000012\"],[0.2222222222222222,\"#000013\"],[0.3333333333333333,\"#000014\"],[0.4444444444444444,\"#000015\"],[0.5555555555555556,\"#000016\"],[0.6666666666666666,\"#000017\"],[0.7777777777777778,\"#000018\"],[0.8888888888888888,\"#000019\"],[1.0,\"#000020\"]]},\"colorscale\":{\"diverging\":[[0.0,\"#000021\"],[0.1,\"#000022\"],[0.2,\"#000023\"],[0.3,\"#000024\"],[0.4,\"#000025\"],[0.5,\"#000026\"],[0.6,\"#000027\"],[0.7,\"#000028\"],[0.8,\"#000029\"],[0.9,\"#000030\"],[1.0,\"#000031\"]],\"sequential\":[[0.0,\"#000011\"],[0.1111111111111111,\"#000012\"],[0.2222222222222222,\"#000013\"],[0.3333333333333333,\"#000014\"],[0.4444444444444444,\"#000015\"],[0.5555555555555556,\"#000016\"],[0.6666666666666666,\"#000017\"],[0.7777777777777778,\"#000018\"],[0.8888888888888888,\"#000019\"],[1.0,\"#000020\"]],\"sequentialminus\":[[0.0,\"#000011\"],[0.1111111111111111,\"#000012\"],[0.2222222222222222,\"#000013\"],[0.3333333333333333,\"#000014\"],[0.4444444444444444,\"#000015\"],[0.5555555555555556,\"#000016\"],[0.6666666666666666,\"#000017\"],[0.7777777777777778,\"#000018\"],[0.8888888888888888,\"#000019\"],[1.0,\"#000020\"]]},\"colorway\":[\"#000001\",\"#000002\",\"#000003\",\"#000004\",\"#000005\",\"#000006\",\"#000007\",\"#000008\",\"#000009\",\"#000010\"]}}},                        {\"responsive\": true}                    ).then(function(){\n",
       "                            \n",
       "var gd = document.getElementById('ebe7ed22-82aa-4a05-a1ba-b5b8301df28c');\n",
       "var x = new MutationObserver(function (mutations, observer) {{\n",
       "        var display = window.getComputedStyle(gd).display;\n",
       "        if (!display || display === 'none') {{\n",
       "            console.log([gd, 'removed!']);\n",
       "            Plotly.purge(gd);\n",
       "            observer.disconnect();\n",
       "        }}\n",
       "}});\n",
       "\n",
       "// Listen for the removal of the full notebook cells\n",
       "var notebookContainer = gd.closest('#notebook-container');\n",
       "if (notebookContainer) {{\n",
       "    x.observe(notebookContainer, {childList: true});\n",
       "}}\n",
       "\n",
       "// Listen for the clearing of the current output cell\n",
       "var outputEl = gd.closest('.output');\n",
       "if (outputEl) {{\n",
       "    x.observe(outputEl, {childList: true});\n",
       "}}\n",
       "\n",
       "                        })                };                });            </script>        </div>"
      ],
      "text/plain": [
       "Figure({\n",
       "    'data': [{'gauge': {'axis': {'range': [-1, 1]}, 'bar': {'color': '#FFFF00'}},\n",
       "              'mode': 'gauge+number',\n",
       "              'title': {'text': 'Overall Sentiment: Neutral 😐'},\n",
       "              'type': 'indicator',\n",
       "              'value': -0.05570238095238096}],\n",
       "    'layout': {'template': '...'}\n",
       "})"
      ]
     },
     "execution_count": 60,
     "metadata": {},
     "output_type": "execute_result"
    }
   ],
   "source": [
    "def generate_sentiment_gauge(value: int):\n",
    "    category =categorisecategorise_sentiment(value)\n",
    "\n",
    "    fig = go.Figure(go.Indicator(\n",
    "        mode=\"gauge+number\",\n",
    "        value=value,\n",
    "        title={'text': f\"Overall Sentiment: {category.get('label')}\"},\n",
    "        gauge={'axis': {'range': [-1, 1]},\n",
    "            'bar': {'color': category.get('colour')},\n",
    "            }))\n",
    "    \n",
    "    return fig\n",
    "\n",
    "value = get_story_sentiment('38865518')\n",
    "fig = generate_sentiment_gauge(value)\n",
    "fig"
   ]
  },
  {
   "cell_type": "code",
   "execution_count": null,
   "metadata": {},
   "outputs": [],
   "source": []
  },
  {
   "cell_type": "markdown",
   "metadata": {},
   "source": [
    "## Comment's per hour speedometer\n",
    "https://stackoverflow.com/questions/64462790/how-to-plot-plotly-gauge-charts-next-to-each-other-with-python"
   ]
  },
  {
   "cell_type": "code",
   "execution_count": 56,
   "metadata": {},
   "outputs": [],
   "source": [
    "# select all records for last 3 hours\n",
    "# where story_id = int(input_story_id)\n",
    "# order by record time\n",
    "# desc limit 2\n",
    "\n",
    "\n",
    "def load_last_two_records(input_story_id: str) -> pd.DataFrame:\n",
    "    \"\"\"Loads records from the last 2 hours for a chosen story.\n",
    "    Returns them as a Dataframe object.\"\"\"\n",
    "    query = f\"\"\"\n",
    "        SELECT\n",
    "            records.story_id,\n",
    "            MAX(records.comments) - MIN(records.comments) AS comments_count_change,\n",
    "            stories.title,\n",
    "            records.record_time\n",
    "            FROM records\n",
    "            JOIN stories ON records.story_id = stories.story_id\n",
    "            WHERE records.story_id = {int(input_story_id)} \n",
    "            GROUP BY records.story_id, stories.title, records.record_time\n",
    "            ORDER BY records.record_time\n",
    "            DESC LIMIT 2\n",
    "        ;\n",
    "        \"\"\"\n",
    "    return pd.read_sql(query, con=get_db_connection())"
   ]
  },
  {
   "cell_type": "code",
   "execution_count": null,
   "metadata": {},
   "outputs": [],
   "source": []
  },
  {
   "cell_type": "code",
   "execution_count": 57,
   "metadata": {},
   "outputs": [
    {
     "name": "stderr",
     "output_type": "stream",
     "text": [
      "/var/folders/2f/000yp3dd3t359b791hdtl7jm0000gp/T/ipykernel_75341/2617343779.py:24: UserWarning:\n",
      "\n",
      "pandas only supports SQLAlchemy connectable (engine/connection) or database string URI or sqlite3 DBAPI2 connection. Other DBAPI2 objects are not tested. Please consider using SQLAlchemy.\n",
      "\n"
     ]
    },
    {
     "data": {
      "text/html": [
       "<div>\n",
       "<style scoped>\n",
       "    .dataframe tbody tr th:only-of-type {\n",
       "        vertical-align: middle;\n",
       "    }\n",
       "\n",
       "    .dataframe tbody tr th {\n",
       "        vertical-align: top;\n",
       "    }\n",
       "\n",
       "    .dataframe thead th {\n",
       "        text-align: right;\n",
       "    }\n",
       "</style>\n",
       "<table border=\"1\" class=\"dataframe\">\n",
       "  <thead>\n",
       "    <tr style=\"text-align: right;\">\n",
       "      <th></th>\n",
       "      <th>story_id</th>\n",
       "      <th>comments_count_change</th>\n",
       "      <th>title</th>\n",
       "      <th>record_time</th>\n",
       "    </tr>\n",
       "  </thead>\n",
       "  <tbody>\n",
       "    <tr>\n",
       "      <th>0</th>\n",
       "      <td>38865518</td>\n",
       "      <td>0</td>\n",
       "      <td>Power over fiber</td>\n",
       "      <td>2024-01-07 10:03:10.114368</td>\n",
       "    </tr>\n",
       "    <tr>\n",
       "      <th>1</th>\n",
       "      <td>38865518</td>\n",
       "      <td>0</td>\n",
       "      <td>Power over fiber</td>\n",
       "      <td>2024-01-07 09:03:15.092878</td>\n",
       "    </tr>\n",
       "  </tbody>\n",
       "</table>\n",
       "</div>"
      ],
      "text/plain": [
       "   story_id  comments_count_change             title  \\\n",
       "0  38865518                      0  Power over fiber   \n",
       "1  38865518                      0  Power over fiber   \n",
       "\n",
       "                 record_time  \n",
       "0 2024-01-07 10:03:10.114368  \n",
       "1 2024-01-07 09:03:15.092878  "
      ]
     },
     "execution_count": 57,
     "metadata": {},
     "output_type": "execute_result"
    }
   ],
   "source": [
    "# new guage with hourly increase in the middle\n",
    "data = load_last_two_records('38865518')\n",
    "data\n",
    "# change_load_last_two_records_for_story_id"
   ]
  },
  {
   "cell_type": "code",
   "execution_count": null,
   "metadata": {},
   "outputs": [],
   "source": []
  },
  {
   "cell_type": "code",
   "execution_count": null,
   "metadata": {},
   "outputs": [],
   "source": [
    "value = get_story_sentiment(38865518)\n",
    "value = -0.8\n",
    "\n",
    "# Determine the category and corresponding color\n",
    "if -1 <= value < -0.6:\n",
    "    category_color = \"#FF0000\"\n",
    "    category_label = \"Very Negative\"\n",
    "elif -0.6 <= value < -0.3:\n",
    "    category_color = \"#FFA500\"\n",
    "    category_label = \"Negative\"\n",
    "elif -0.3 <= value < 0.3:\n",
    "    category_color = \"#FFFF00\"\n",
    "    category_label = \"Neutral\"\n",
    "elif 0.3 <= value < 0.6:\n",
    "    category_color = \"#8BFF00\"\n",
    "    category_label = \"Positive\"\n",
    "else:\n",
    "    category_color = \"#00FF00\"\n",
    "    category_label = \"Very Positive\"\n",
    "\n",
    "fig = go.Figure(go.Indicator(\n",
    "    mode=\"gauge+number\",\n",
    "    value=value,\n",
    "    title={'text': f\"Overall Sentiment: {category_label}\"},\n",
    "    gauge={'axis': {'range': [-1, 1]},\n",
    "           'bar': {'color': category_color},\n",
    "           }\n",
    "))\n",
    "\n",
    "fig"
   ]
  },
  {
   "cell_type": "markdown",
   "metadata": {},
   "source": [
    "## Find other possible visualisations."
   ]
  },
  {
   "cell_type": "markdown",
   "metadata": {},
   "source": [
    "Comments/Topic\n",
    "- What comments generate the most discussion. / Talkie points / Spill the tea."
   ]
  },
  {
   "cell_type": "code",
   "execution_count": null,
   "metadata": {},
   "outputs": [],
   "source": []
  }
 ],
 "metadata": {
  "kernelspec": {
   "display_name": "Python 3",
   "language": "python",
   "name": "python3"
  },
  "language_info": {
   "codemirror_mode": {
    "name": "ipython",
    "version": 3
   },
   "file_extension": ".py",
   "mimetype": "text/x-python",
   "name": "python",
   "nbconvert_exporter": "python",
   "pygments_lexer": "ipython3",
   "version": "3.9.6"
  }
 },
 "nbformat": 4,
 "nbformat_minor": 2
}
