{
 "cells": [
  {
   "cell_type": "markdown",
   "metadata": {},
   "source": [
    "## Generate gauge for provided URL"
   ]
  },
  {
   "cell_type": "markdown",
   "metadata": {},
   "source": [
    "## Make table showing comments that cause most discussion"
   ]
  },
  {
   "cell_type": "markdown",
   "metadata": {},
   "source": [
    "Generate a list of strings showing discussed articles"
   ]
  },
  {
   "cell_type": "markdown",
   "metadata": {},
   "source": [
    "- What makes a article most discussed\n",
    "    no. of comments\n",
    "- top 5 stories with most comments\n",
    "- time: "
   ]
  },
  {
   "cell_type": "markdown",
   "metadata": {},
   "source": [
    "- When provided a URL\n",
    "- Show most discussed comments for a given article\n",
    "- select top comments of article, and show kids."
   ]
  },
  {
   "cell_type": "code",
   "execution_count": 2,
   "metadata": {},
   "outputs": [],
   "source": [
    "import psycopg2\n",
    "from psycopg2 import connect\n",
    "from dotenv import load_dotenv\n",
    "from os import environ\n",
    "import pandas as pd\n",
    "import textblob\n",
    "from textblob import TextBlob\n",
    "import plotly.graph_objects as go\n",
    "import numpy as np\n",
    "import streamlit\n",
    "import json\n",
    "from requests import get\n",
    "import html\n",
    "\n",
    "from plotly.offline import init_notebook_mode, iplot"
   ]
  },
  {
   "cell_type": "markdown",
   "metadata": {},
   "source": [
    "#get story from id\n",
    "    - take in url, match to url in database\n",
    "    - return story_id"
   ]
  },
  {
   "cell_type": "code",
   "execution_count": 3,
   "metadata": {},
   "outputs": [],
   "source": [
    "def get_db_connection():\n",
    "    \"\"\"Returns a database connection.\"\"\"\n",
    "    load_dotenv()\n",
    "    return psycopg2.connect(\n",
    "        host=environ[\"DB_HOST\"],\n",
    "        port=environ[\"DB_PORT\"],\n",
    "        database=environ[\"DB_NAME\"],\n",
    "        user=environ[\"DB_USER\"],\n",
    "        password=environ[\"DB_PASSWORD\"]\n",
    "    )"
   ]
  },
  {
   "cell_type": "code",
   "execution_count": 33,
   "metadata": {},
   "outputs": [],
   "source": [
    "# def load_stories_data_from_url(url:str) -> pd.DataFrame:\n",
    "#     \"\"\"Loads re with greatest score change over last 24hrs from RDS.\n",
    "#     Returns them as a Dataframe object.\"\"\"\n",
    "#     query =f\"\"\"\n",
    "#         SELECT stories.story_id, \n",
    "#                 stories.title, \n",
    "#                 stories.author,\n",
    "#                 stories.story_url,\n",
    "#                 records.comments, \n",
    "#                 records.record_id, \n",
    "#                 stories.topic_id,\n",
    "#                 records.score\n",
    "#         FROM records\n",
    "#         LEFT JOIN stories ON records.story_id = stories.story_id\n",
    "#         WHERE stories.story_url LIKE {url}\n",
    "#         ;\n",
    "#         \"\"\"\n",
    "#     return pd.read_sql(query, con=get_db_connection())\n",
    "\n",
    "def get_story_id_from_url(url: str) -> pd.DataFrame:\n",
    "    \"\"\"Loads re with greatest score change over last 24hrs from RDS.\n",
    "    Returns them as a Dataframe object.\"\"\"\n",
    "    query = f\"\"\"\n",
    "        SELECT story_id\n",
    "        FROM stories\n",
    "        WHERE stories.story_url LIKE %(url)s;\n",
    "        \"\"\"\n",
    "    df = pd.read_sql(query, con=get_db_connection(), params={\"url\": url})\n",
    "    return df['story_id']"
   ]
  },
  {
   "cell_type": "code",
   "execution_count": 34,
   "metadata": {},
   "outputs": [
    {
     "name": "stdout",
     "output_type": "stream",
     "text": [
      "0    38932509\n",
      "Name: story_id, dtype: int64\n"
     ]
    },
    {
     "name": "stderr",
     "output_type": "stream",
     "text": [
      "/var/folders/2f/000yp3dd3t359b791hdtl7jm0000gp/T/ipykernel_70147/2335271775.py:28: UserWarning:\n",
      "\n",
      "pandas only supports SQLAlchemy connectable (engine/connection) or database string URI or sqlite3 DBAPI2 connection. Other DBAPI2 objects are not tested. Please consider using SQLAlchemy.\n",
      "\n"
     ]
    }
   ],
   "source": [
    "url = 'https://en.bitcoinsistemi.com/breaking-gary-gensler-says-secs-x-account-hacked-bitcoin-spot-etfs-not-yet-approved/'\n",
    "\n",
    "df_specific_url = get_story_id_from_url(f\"{url}\")\n",
    "print(df_specific_url)"
   ]
  },
  {
   "cell_type": "code",
   "execution_count": null,
   "metadata": {},
   "outputs": [],
   "source": [
    "BASE_URL = \"https://hacker-news.firebaseio.com/v0/item/\"\n",
    "def get_comment_ids(story: int) -> list:\n",
    "    \"\"\"Returns the id of comments from given story on Hacker News.\"\"\"\n",
    "    story_info = get(BASE_URL + f\"{story}.json\", timeout=30).json()\n",
    "    comment_ids = story_info.get(\"kids\")\n",
    "    return comment_ids"
   ]
  },
  {
   "cell_type": "code",
   "execution_count": null,
   "metadata": {},
   "outputs": [],
   "source": [
    "list_kids_num = []\n",
    "    for comment in comments[0:5]:\n",
    "        comment_info = get(BASE_URL + f\"{comment}.json\", timeout=30).json()\n",
    "        list_kids_num.append({'parent_id': comment, 'num_of_child': len(comment_info.get(\"kids\"))})\n",
    "        kids = len(comment_info.get(\"kids\"))\n",
    "        print(f\"{comment} has {kids} replies.\")"
   ]
  },
  {
   "cell_type": "code",
   "execution_count": 53,
   "metadata": {},
   "outputs": [
    {
     "name": "stdout",
     "output_type": "stream",
     "text": [
      "[{'number_of_children': 8,\n",
      "  'title': '> efficiently converts optical power to electrical powerDamn, I '\n",
      "           'thought it was just '},\n",
      " {'number_of_children': 5,\n",
      "  'title': 'So... I have a really interesting anecdote on \"Power over fiber\"In '\n",
      "           '~20'},\n",
      " {'number_of_children': 4,\n",
      "  'title': 'From a reply:  “wow. I expected expensive (two digits), but '\n",
      "           'indeed: these are _very_ expen'},\n",
      " {'number_of_children': 4,\n",
      "  'title': 'How much optical power could be safely carried over such an '\n",
      "           'optical fiber in theory? What '},\n",
      " {'number_of_children': 4,\n",
      "  'title': \"What's the use-case here? That's the biggest optoisolator I've \"\n",
      "           'ever heard o'}]\n"
     ]
    }
   ],
   "source": [
    "import html\n",
    "from bs4 import BeautifulSoup\n",
    "import pprint\n",
    "import re\n",
    "\n",
    "CLEANR = re.compile('<.*?>')\n",
    "\n",
    "\n",
    "def format_html(text_string: str):\n",
    "    # Unescape HTML entities\n",
    "    unescaped_text = html.unescape(text_string)\n",
    "    # use regex to get rid of html tags\n",
    "    clean_text = re.sub(CLEANR, '', unescaped_text)\n",
    "    return clean_text\n",
    "\n",
    "def get_top_5_most_replied_parent_comments(story_id: int):\n",
    "    # get all its parent comments\n",
    "    parent_comments = get_comment_ids(story_id)\n",
    "    \n",
    "    parent_comments_list = []\n",
    "    for parent_comment_id in parent_comments:\n",
    "        # figure out a comment's title\n",
    "        comment_info = get(BASE_URL + f\"{parent_comment_id}.json\", timeout=30).json()\n",
    "        \n",
    "        # Check if \"text\" key exists in comment_info\n",
    "        comment_text = comment_info.get(\"text\")\n",
    "        comment_title = format_html(comment_text[:90]) if comment_text else \"No title available\"\n",
    "        \n",
    "        # figure out the number of children it has\n",
    "        number_of_children = 0\n",
    "        kids_info = comment_info.get(\"kids\")\n",
    "        if kids_info is not None:\n",
    "            number_of_children = len(kids_info)\n",
    "\n",
    "        # list of dicts where each dictionary is: {parent_comment_id : number_of_children}\n",
    "        parent_comments_list.append({'title': comment_title, 'number_of_children': number_of_children})\n",
    "\n",
    "    # sort list of dicts by number_of_children \n",
    "    sorted_list = sorted(parent_comments_list, key=lambda comment_dict: comment_dict.get('number_of_children', 0), reverse=True)\n",
    "    return sorted_list[:5]\n",
    "\n",
    "pprint.pprint(get_top_5_most_replied_parent_comments(38865518))"
   ]
  },
  {
   "cell_type": "code",
   "execution_count": 57,
   "metadata": {},
   "outputs": [
    {
     "data": {
      "text/plain": [
       "['> efficiently converts optical power to electrical powerDamn, I thought it was just  - - - [8 replies]',\n",
       " 'So... I have a really interesting anecdote on \"Power over fiber\"In ~20 - - - [5 replies]',\n",
       " 'From a reply:  “wow. I expected expensive (two digits), but indeed: these are _very_ expen - - - [4 replies]',\n",
       " 'How much optical power could be safely carried over such an optical fiber in theory? What  - - - [4 replies]',\n",
       " \"What's the use-case here? That's the biggest optoisolator I've ever heard o - - - [4 replies]\"]"
      ]
     },
     "execution_count": 57,
     "metadata": {},
     "output_type": "execute_result"
    }
   ],
   "source": [
    "top_5_comments = get_top_5_most_replied_parent_comments(38865518)\n",
    "\n",
    "# for parent_comment in top_5_comments_info:\n",
    "#     print(f\"{parent_comment.get('title')} - - - [{parent_comment.get('number_of_children')} replies]\")\n",
    "text_list = [\n",
    "    f\"{parent_comment.get('title')} - - - [{parent_comment.get('number_of_children')} replies]\" for parent_comment in top_5_comments\n",
    "]\n",
    "text_list\n",
    "        "
   ]
  },
  {
   "cell_type": "markdown",
   "metadata": {},
   "source": [
    "\"Comment\" + score + replies"
   ]
  },
  {
   "cell_type": "code",
   "execution_count": null,
   "metadata": {},
   "outputs": [],
   "source": [
    "def load_last_two_records(input_story_id: str) -> pd.DataFrame:\n",
    "    \"\"\"Loads records from the last 2 hours for a chosen story.\n",
    "    Returns them as a Dataframe object.\"\"\"\n",
    "    query = f\"\"\"\n",
    "        SELECT\n",
    "            records.story_id,\n",
    "            MAX(records.comments) - MIN(records.comments) AS comments_count_change,\n",
    "            stories.title,\n",
    "            records.record_time\n",
    "            FROM records\n",
    "            JOIN stories ON records.story_id = stories.story_id\n",
    "            WHERE records.story_id = {int(input_story_id)} \n",
    "            GROUP BY records.story_id, stories.title, records.record_time\n",
    "            ORDER BY records.record_time\n",
    "            DESC LIMIT 2\n",
    "        ;\n",
    "        \"\"\"\n",
    "    return pd.read_sql(query, con=get_db_connection())"
   ]
  }
 ],
 "metadata": {
  "kernelspec": {
   "display_name": "venv",
   "language": "python",
   "name": "python3"
  },
  "language_info": {
   "codemirror_mode": {
    "name": "ipython",
    "version": 3
   },
   "file_extension": ".py",
   "mimetype": "text/x-python",
   "name": "python",
   "nbconvert_exporter": "python",
   "pygments_lexer": "ipython3",
   "version": "3.9.6"
  }
 },
 "nbformat": 4,
 "nbformat_minor": 2
}
