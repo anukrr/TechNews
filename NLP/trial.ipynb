{
 "cells": [
  {
   "cell_type": "markdown",
   "metadata": {},
   "source": [
    "## Generate gauge for provided URL"
   ]
  },
  {
   "cell_type": "markdown",
   "metadata": {},
   "source": [
    "## Make table showing comments that cause most discussion"
   ]
  },
  {
   "cell_type": "markdown",
   "metadata": {},
   "source": [
    "Generate a list of strings showing discussed articles"
   ]
  },
  {
   "cell_type": "markdown",
   "metadata": {},
   "source": [
    "- What makes a article most discussed\n",
    "    no. of comments\n",
    "- top 5 stories with most comments\n",
    "- time: "
   ]
  },
  {
   "cell_type": "markdown",
   "metadata": {},
   "source": [
    "- When provided a URL\n",
    "- Show most discussed comments for a given article\n",
    "- select top comments of article, and show kids."
   ]
  },
  {
   "cell_type": "code",
   "execution_count": null,
   "metadata": {},
   "outputs": [],
   "source": [
    "URL = \"https://www.theguardian.com/technology/2024/jan/05/youtuber-tom-scott-ends-things-you-might-not-know-series\"\n",
    "def get_story_id_from_url(url: str):\n",
    "    query = \"\"\"\n",
    "            SELECT \n",
    "            FROM \n",
    "\n",
    "    \"\"\"\n",
    "\n",
    "    pass"
   ]
  },
  {
   "cell_type": "code",
   "execution_count": null,
   "metadata": {},
   "outputs": [],
   "source": [
    "BASE_URL = \"https://hacker-news.firebaseio.com/v0/item/\"\n",
    "def get_comment_ids(story: int) -> list:\n",
    "    \"\"\"Returns the id of comments from given story on Hacker News.\"\"\"\n",
    "    story_info = get(BASE_URL + f\"{story}.json\", timeout=30).json()\n",
    "    comment_ids = story_info.get(\"kids\")\n",
    "    return comment_ids"
   ]
  },
  {
   "cell_type": "code",
   "execution_count": null,
   "metadata": {},
   "outputs": [],
   "source": [
    "list_kids_num = []\n",
    "    for comment in comments[0:5]:\n",
    "        comment_info = get(BASE_URL + f\"{comment}.json\", timeout=30).json()\n",
    "        list_kids_num.append({'parent_id': comment, 'num_of_child': len(comment_info.get(\"kids\"))})\n",
    "        kids = len(comment_info.get(\"kids\"))\n",
    "        print(f\"{comment} has {kids} replies.\")"
   ]
  },
  {
   "cell_type": "code",
   "execution_count": 53,
   "metadata": {},
   "outputs": [
    {
     "name": "stdout",
     "output_type": "stream",
     "text": [
      "[{'number_of_children': 8,\n",
      "  'title': '> efficiently converts optical power to electrical powerDamn, I '\n",
      "           'thought it was just '},\n",
      " {'number_of_children': 5,\n",
      "  'title': 'So... I have a really interesting anecdote on \"Power over fiber\"In '\n",
      "           '~20'},\n",
      " {'number_of_children': 4,\n",
      "  'title': 'From a reply:  “wow. I expected expensive (two digits), but '\n",
      "           'indeed: these are _very_ expen'},\n",
      " {'number_of_children': 4,\n",
      "  'title': 'How much optical power could be safely carried over such an '\n",
      "           'optical fiber in theory? What '},\n",
      " {'number_of_children': 4,\n",
      "  'title': \"What's the use-case here? That's the biggest optoisolator I've \"\n",
      "           'ever heard o'}]\n"
     ]
    }
   ],
   "source": [
    "import html\n",
    "from bs4 import BeautifulSoup\n",
    "import pprint\n",
    "import re\n",
    "\n",
    "CLEANR = re.compile('<.*?>')\n",
    "\n",
    "\n",
    "def format_html(text_string: str):\n",
    "    # Unescape HTML entities\n",
    "    unescaped_text = html.unescape(text_string)\n",
    "    # use regex to get rid of html tags\n",
    "    clean_text = re.sub(CLEANR, '', unescaped_text)\n",
    "    return clean_text\n",
    "\n",
    "def get_top_5_most_replied_parent_comments(story_id: int):\n",
    "    # get all its parent comments\n",
    "    parent_comments = get_comment_ids(story_id)\n",
    "    \n",
    "    parent_comments_list = []\n",
    "    for parent_comment_id in parent_comments:\n",
    "        # figure out a comment's title\n",
    "        comment_info = get(BASE_URL + f\"{parent_comment_id}.json\", timeout=30).json()\n",
    "        \n",
    "        # Check if \"text\" key exists in comment_info\n",
    "        comment_text = comment_info.get(\"text\")\n",
    "        comment_title = format_html(comment_text[:90]) if comment_text else \"No title available\"\n",
    "        \n",
    "        # figure out the number of children it has\n",
    "        number_of_children = 0\n",
    "        kids_info = comment_info.get(\"kids\")\n",
    "        if kids_info is not None:\n",
    "            number_of_children = len(kids_info)\n",
    "\n",
    "        # list of dicts where each dictionary is: {parent_comment_id : number_of_children}\n",
    "        parent_comments_list.append({'title': comment_title, 'number_of_children': number_of_children})\n",
    "\n",
    "    # sort list of dicts by number_of_children \n",
    "    sorted_list = sorted(parent_comments_list, key=lambda comment_dict: comment_dict.get('number_of_children', 0), reverse=True)\n",
    "    return sorted_list[:5]\n",
    "\n",
    "pprint.pprint(get_top_5_most_replied_parent_comments(38865518))"
   ]
  },
  {
   "cell_type": "code",
   "execution_count": 57,
   "metadata": {},
   "outputs": [
    {
     "data": {
      "text/plain": [
       "['> efficiently converts optical power to electrical powerDamn, I thought it was just  - - - [8 replies]',\n",
       " 'So... I have a really interesting anecdote on \"Power over fiber\"In ~20 - - - [5 replies]',\n",
       " 'From a reply:  “wow. I expected expensive (two digits), but indeed: these are _very_ expen - - - [4 replies]',\n",
       " 'How much optical power could be safely carried over such an optical fiber in theory? What  - - - [4 replies]',\n",
       " \"What's the use-case here? That's the biggest optoisolator I've ever heard o - - - [4 replies]\"]"
      ]
     },
     "execution_count": 57,
     "metadata": {},
     "output_type": "execute_result"
    }
   ],
   "source": [
    "top_5_comments = get_top_5_most_replied_parent_comments(38865518)\n",
    "\n",
    "# for parent_comment in top_5_comments_info:\n",
    "#     print(f\"{parent_comment.get('title')} - - - [{parent_comment.get('number_of_children')} replies]\")\n",
    "text_list = [\n",
    "    f\"{parent_comment.get('title')} - - - [{parent_comment.get('number_of_children')} replies]\" for parent_comment in top_5_comments\n",
    "]\n",
    "text_list\n",
    "        "
   ]
  },
  {
   "cell_type": "markdown",
   "metadata": {},
   "source": [
    "\"Comment\" + score + replies"
   ]
  },
  {
   "cell_type": "code",
   "execution_count": null,
   "metadata": {},
   "outputs": [],
   "source": [
    "def load_last_two_records(input_story_id: str) -> pd.DataFrame:\n",
    "    \"\"\"Loads records from the last 2 hours for a chosen story.\n",
    "    Returns them as a Dataframe object.\"\"\"\n",
    "    query = f\"\"\"\n",
    "        SELECT\n",
    "            records.story_id,\n",
    "            MAX(records.comments) - MIN(records.comments) AS comments_count_change,\n",
    "            stories.title,\n",
    "            records.record_time\n",
    "            FROM records\n",
    "            JOIN stories ON records.story_id = stories.story_id\n",
    "            WHERE records.story_id = {int(input_story_id)} \n",
    "            GROUP BY records.story_id, stories.title, records.record_time\n",
    "            ORDER BY records.record_time\n",
    "            DESC LIMIT 2\n",
    "        ;\n",
    "        \"\"\"\n",
    "    return pd.read_sql(query, con=get_db_connection())"
   ]
  }
 ],
 "metadata": {
  "kernelspec": {
   "display_name": "venv",
   "language": "python",
   "name": "python3"
  },
  "language_info": {
   "codemirror_mode": {
    "name": "ipython",
    "version": 3
   },
   "file_extension": ".py",
   "mimetype": "text/x-python",
   "name": "python",
   "nbconvert_exporter": "python",
   "pygments_lexer": "ipython3",
   "version": "3.9.6"
  }
 },
 "nbformat": 4,
 "nbformat_minor": 2
}
